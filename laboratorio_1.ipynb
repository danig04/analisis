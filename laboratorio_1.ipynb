{
  "nbformat": 4,
  "nbformat_minor": 0,
  "metadata": {
    "colab": {
      "provenance": [],
      "include_colab_link": true
    },
    "kernelspec": {
      "name": "python3",
      "display_name": "Python 3"
    },
    "language_info": {
      "name": "python"
    }
  },
  "cells": [
    {
      "cell_type": "markdown",
      "metadata": {
        "id": "view-in-github",
        "colab_type": "text"
      },
      "source": [
        "<a href=\"https://colab.research.google.com/github/danig04/analisis/blob/main/laboratorio_1.ipynb\" target=\"_parent\"><img src=\"https://colab.research.google.com/assets/colab-badge.svg\" alt=\"Open In Colab\"/></a>"
      ]
    },
    {
      "cell_type": "code",
      "source": [
        "# Emmanuel Pérez Sánchez\n",
        "# Luis Fernández Serrano\n",
        "# Daniel Gómez Mena\n",
        "# Rafael Zúñiga Vindas\n",
        "\n",
        "from statistics import mode\n",
        "import numpy as np\n",
        "from numpy import var\n",
        "\n",
        "print(\"Promedio de los elementos del vector\")\n",
        "suma = 0\n",
        "media = 0\n",
        "temperaturas = []\n",
        "print(\"Ingrese cantidad de temperaturas: \")\n",
        "n = int(input())\n",
        "\n",
        "for i in range(n):\n",
        "  temperatura = float(input(\"Ingrese la temperatura: \"))\n",
        "  temperaturas.append(temperatura)\n",
        "  suma = suma + temperaturas[i]\n",
        "media =  suma / n\n",
        "\n",
        "print(\"\\nResultados: \")\n",
        "print(\"\\n- La media es:\", media)\n",
        "\n",
        "# Desviación estándar\n",
        "\n",
        "print(\"- Desviación estándar: Según los datos es\", np.std(temperaturas), \"ya que este es un índice numérico de la dispersión de las temperaturas, entre mayor es la desviación estándar también es la dispersión de datos.\")\n",
        "\n",
        "# Moda\n",
        "\n",
        "moda = 0\n",
        "moda = mode(temperaturas)\n",
        "print(\"- Moda: Según los datos es \", moda, \"ya que este es el número que más se repite en la lista de temperaturas.\")\n",
        "\n",
        "# Mediana\n",
        "\n",
        "def calcular_mediana():\n",
        "\ttemperaturas.sort()\n",
        "\tlongitud = len(temperaturas)\n",
        "\tmitad = int(longitud / 2)\n",
        "\tif longitud % 2 == 0:\n",
        "\t\tmediana = (temperaturas[mitad - 1] + temperaturas[mitad]) /2\n",
        "\telse:\n",
        "\t\tmediana = temperaturas[mitad]\n",
        "\treturn mediana\n",
        "\n",
        "print(\"- Mediana: Según los datos es \", calcular_mediana(), \"ya que este es el número con la posición central en la lista de temperaturas.\")\n",
        "\n",
        "# Varianza\n",
        "\n",
        "varianza = 0\n",
        "varianza = var(temperaturas)\n",
        "print(\"- Varianza: Según los datos es \", varianza, \"ya que esta es un medida de dispersión, debido a que su intención es calcular en qué medida las temperaturas están según la media.\")"
      ],
      "metadata": {
        "colab": {
          "base_uri": "https://localhost:8080/"
        },
        "id": "PGRvWRK3A9Xi",
        "outputId": "1ca449e4-d2e2-4d53-e5dd-31f5ea59a5ee"
      },
      "execution_count": null,
      "outputs": [
        {
          "output_type": "stream",
          "name": "stdout",
          "text": [
            "Promedio de los elementos del vector\n",
            "Ingrese cantidad de temperaturas: \n",
            "3\n",
            "Ingrese la temperatura: 1\n",
            "Ingrese la temperatura: 1\n",
            "Ingrese la temperatura: 2\n",
            "\n",
            "Resultados: \n",
            "\n",
            "- La media es: 1.3333333333333333\n",
            "- Desviación estándar: Según los datos es 0.4714045207910317 ya que este es un índice numérico de la dispersión de las temperaturas, entre mayor es la desviación estándar también es la dispersión de datos.\n",
            "- Moda: Según los datos es  1.0 ya que este es el número que más se repite en la lista de temperaturas.\n",
            "- Mediana: Según los datos es  1.0 ya que este es el número con la posición central en la lista de temperaturas.\n",
            "- Varianza: Según los datos es  0.2222222222222222 ya que esta es un medida de dispersión, debido a que su intención es calcular en qué medida las temperaturas están según la media.\n"
          ]
        }
      ]
    }
  ]
}