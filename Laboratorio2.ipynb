{
  "nbformat": 4,
  "nbformat_minor": 0,
  "metadata": {
    "colab": {
      "provenance": [],
      "authorship_tag": "ABX9TyOAW3VzGyyNdoj1WGbkDUjz",
      "include_colab_link": true
    },
    "kernelspec": {
      "name": "python3",
      "display_name": "Python 3"
    },
    "language_info": {
      "name": "python"
    }
  },
  "cells": [
    {
      "cell_type": "markdown",
      "metadata": {
        "id": "view-in-github",
        "colab_type": "text"
      },
      "source": [
        "<a href=\"https://colab.research.google.com/github/danig04/analisis/blob/main/Laboratorio2.ipynb\" target=\"_parent\"><img src=\"https://colab.research.google.com/assets/colab-badge.svg\" alt=\"Open In Colab\"/></a>"
      ]
    },
    {
      "cell_type": "code",
      "execution_count": null,
      "metadata": {
        "colab": {
          "base_uri": "https://localhost:8080/"
        },
        "id": "MQqVJFDCs4Hw",
        "outputId": "98a30cc0-333c-4503-a109-c65394f823ff"
      },
      "outputs": [
        {
          "output_type": "stream",
          "name": "stdout",
          "text": [
            "           TOWN      LON      LAT  MEDV     CRIM    ZN  INDUS  CHAS    NOX  \\\n",
            "0        Nahant -70.9550  42.2550  24.0  0.00632  18.0   2.31     0  0.538   \n",
            "1    Swampscott -70.9500  42.2875  21.6  0.02731   0.0   7.07     0  0.469   \n",
            "2    Swampscott -70.9360  42.2830  34.7  0.02729   0.0   7.07     0  0.469   \n",
            "3    Marblehead -70.9280  42.2930  33.4  0.03237   0.0   2.18     0  0.458   \n",
            "4    Marblehead -70.9220  42.2980  36.2  0.06905   0.0   2.18     0  0.458   \n",
            "..          ...      ...      ...   ...      ...   ...    ...   ...    ...   \n",
            "501    Winthrop -70.9860  42.2312  22.4  0.06263   0.0  11.93     0  0.573   \n",
            "502    Winthrop -70.9910  42.2275  20.6  0.04527   0.0  11.93     0  0.573   \n",
            "503    Winthrop -70.9948  42.2260  23.9  0.06076   0.0  11.93     0  0.573   \n",
            "504    Winthrop -70.9875  42.2240  22.0  0.10959   0.0  11.93     0  0.573   \n",
            "505    Winthrop -70.9825  42.2210  19.0  0.04741   0.0  11.93     0  0.573   \n",
            "\n",
            "        RM   AGE     DIS  RAD  TAX  PTRATIO       B  LSTAT  \n",
            "0    6.575  65.2  4.0900    1  296     15.3  396.90   4.98  \n",
            "1    6.421  78.9  4.9671    2  242     17.8  396.90   9.14  \n",
            "2    7.185  61.1  4.9671    2  242     17.8  392.83   4.03  \n",
            "3    6.998  45.8  6.0622    3  222     18.7  394.63   2.94  \n",
            "4    7.147  54.2  6.0622    3  222     18.7  396.90   5.33  \n",
            "..     ...   ...     ...  ...  ...      ...     ...    ...  \n",
            "501  6.593  69.1  2.4786    1  273     21.0  391.99   9.67  \n",
            "502  6.120  76.7  2.2875    1  273     21.0  396.90   9.08  \n",
            "503  6.976  91.0  2.1675    1  273     21.0  396.90   5.64  \n",
            "504  6.794  89.3  2.3889    1  273     21.0  393.45   6.48  \n",
            "505  6.030  80.8  2.5050    1  273     21.0  396.90   7.88  \n",
            "\n",
            "[506 rows x 17 columns]\n",
            "0      65.2\n",
            "1      78.9\n",
            "2      61.1\n",
            "3      45.8\n",
            "4      54.2\n",
            "       ... \n",
            "501    69.1\n",
            "502    76.7\n",
            "503    91.0\n",
            "504    89.3\n",
            "505    80.8\n",
            "Name: AGE, Length: 506, dtype: float64\n",
            "       TOWN     LON      LAT  MEDV     CRIM    ZN  INDUS  CHAS    NOX     RM  \\\n",
            "0    Nahant -70.955  42.2550  24.0  0.00632  18.0   2.31     0  0.538  6.575   \n",
            "119  Malden -71.019  42.2605  19.3  0.14476   0.0  10.01     0  0.547  5.731   \n",
            "\n",
            "      AGE     DIS  RAD  TAX  PTRATIO      B  LSTAT  \n",
            "0    65.2  4.0900    1  296     15.3  396.9   4.98  \n",
            "119  65.2  2.7592    6  432     17.8  391.5  13.61  \n",
            "         TOWN      LON      LAT  MEDV     CRIM   ZN  INDUS  CHAS    NOX  \\\n",
            "501  Winthrop -70.9860  42.2312  22.4  0.06263  0.0  11.93     0  0.573   \n",
            "502  Winthrop -70.9910  42.2275  20.6  0.04527  0.0  11.93     0  0.573   \n",
            "503  Winthrop -70.9948  42.2260  23.9  0.06076  0.0  11.93     0  0.573   \n",
            "504  Winthrop -70.9875  42.2240  22.0  0.10959  0.0  11.93     0  0.573   \n",
            "505  Winthrop -70.9825  42.2210  19.0  0.04741  0.0  11.93     0  0.573   \n",
            "\n",
            "        RM   AGE     DIS  RAD  TAX  PTRATIO       B  LSTAT  \n",
            "501  6.593  69.1  2.4786    1  273     21.0  391.99   9.67  \n",
            "502  6.120  76.7  2.2875    1  273     21.0  396.90   9.08  \n",
            "503  6.976  91.0  2.1675    1  273     21.0  396.90   5.64  \n",
            "504  6.794  89.3  2.3889    1  273     21.0  393.45   6.48  \n",
            "505  6.030  80.8  2.5050    1  273     21.0  396.90   7.88  \n"
          ]
        }
      ],
      "source": [
        "import pandas as pd\n",
        "df=pd.read_csv('/content/casasboston.csv')\n",
        "data=pd.DataFrame(df)\n",
        "print(data)\n",
        "print(data.AGE)\n",
        "\n",
        "dataresultado=data.loc[(data['AGE']== 65.2 )]\n",
        "print(dataresultado)\n",
        "dataresultado=data.loc[(data['TOWN']==  \"Winthrop\" )]\n",
        "print(dataresultado)"
      ]
    },
    {
      "cell_type": "code",
      "source": [
        "import pandas as pd\n",
        "df=pd.read_csv('/content/casasboston.csv')\n",
        "data=pd.DataFrame(df)\n",
        "dataresultado=data.loc[(data['CRIM'] >=  0.50)]\n",
        "print(dataresultado)"
      ],
      "metadata": {
        "colab": {
          "base_uri": "https://localhost:8080/"
        },
        "id": "iCdWdK5V5HKP",
        "outputId": "69ea266e-e9d7-43a6-d469-4bc079050258"
      },
      "execution_count": null,
      "outputs": [
        {
          "output_type": "stream",
          "name": "stdout",
          "text": [
            "                    TOWN      LON      LAT  MEDV     CRIM   ZN  INDUS  CHAS  \\\n",
            "13                  Lynn -70.9645  42.2920  20.4  0.62976  0.0   8.14     0   \n",
            "14                  Lynn -70.9720  42.2870  18.2  0.63796  0.0   8.14     0   \n",
            "15                  Lynn -70.9765  42.2940  19.9  0.62739  0.0   8.14     0   \n",
            "16                  Lynn -70.9870  42.2985  23.1  1.05393  0.0   8.14     0   \n",
            "17                  Lynn -70.9780  42.2850  17.5  0.78420  0.0   8.14     0   \n",
            "..                   ...      ...      ...   ...      ...  ...    ...   ...   \n",
            "483  Boston West Roxbury -71.0975  42.1608  21.8  2.81838  0.0  18.10     0   \n",
            "484     Boston Hyde Park -71.0804  42.1540  20.6  2.37857  0.0  18.10     0   \n",
            "485     Boston Hyde Park -71.0750  42.1455  21.2  3.67367  0.0  18.10     0   \n",
            "486     Boston Hyde Park -71.0715  42.1550  19.1  5.69175  0.0  18.10     0   \n",
            "487     Boston Hyde Park -71.0650  42.1610  20.6  4.83567  0.0  18.10     0   \n",
            "\n",
            "       NOX     RM   AGE     DIS  RAD  TAX  PTRATIO       B  LSTAT  \n",
            "13   0.538  5.949  61.8  4.7075    4  307     21.0  396.90   8.26  \n",
            "14   0.538  6.096  84.5  4.4619    4  307     21.0  380.02  10.26  \n",
            "15   0.538  5.834  56.5  4.4986    4  307     21.0  395.62   8.47  \n",
            "16   0.538  5.935  29.3  4.4986    4  307     21.0  386.85   6.58  \n",
            "17   0.538  5.990  81.7  4.2579    4  307     21.0  386.75  14.67  \n",
            "..     ...    ...   ...     ...  ...  ...      ...     ...    ...  \n",
            "483  0.532  5.762  40.3  4.0983   24  666     20.2  392.92  10.42  \n",
            "484  0.583  5.871  41.9  3.7240   24  666     20.2  370.73  13.34  \n",
            "485  0.583  6.312  51.9  3.9917   24  666     20.2  388.62  10.58  \n",
            "486  0.583  6.114  79.8  3.5459   24  666     20.2  392.68  14.98  \n",
            "487  0.583  5.905  53.2  3.1523   24  666     20.2  388.22  11.45  \n",
            "\n",
            "[212 rows x 17 columns]\n"
          ]
        }
      ]
    }
  ]
}